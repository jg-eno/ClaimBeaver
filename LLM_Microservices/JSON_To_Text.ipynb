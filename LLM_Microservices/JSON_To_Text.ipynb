{
 "cells": [
  {
   "cell_type": "code",
   "execution_count": 35,
   "metadata": {},
   "outputs": [],
   "source": [
    "from langchain_openai import ChatOpenAI\n",
    "from langchain_core.prompts import ChatPromptTemplate\n",
    "from langchain_core.output_parsers.string import StrOutputParser\n",
    "import os\n",
    "from dotenv import load_dotenv"
   ]
  },
  {
   "cell_type": "code",
   "execution_count": 36,
   "metadata": {},
   "outputs": [],
   "source": [
    "load_dotenv()\n",
    "key = os.getenv('OPENAI_API_KEY')"
   ]
  },
  {
   "cell_type": "code",
   "execution_count": 37,
   "metadata": {},
   "outputs": [],
   "source": [
    "json_input = '{\"details\":{\"memberData\":[{\"member_id\":1,\"dependant_id\":1,\"member_name\":\"Vijay Venkat J \",\"member_email\":\"vijayvenkatj@gmail.com\",\"date_of_birth\":\"2006-04-30T00:00:00.000Z\",\"gender\":\"Other\",\"address\":\"124, Rajapalayam, Tamilnadu\",\"phone_number\":\"7777788888\",\"member_effective_start_date\":\"2025-03-23T00:00:00.000Z\",\"member_effective_end_date\":\"2025-03-30T00:00:00.000Z\",\"created_at\":\"2025-03-22T18:56:38.145Z\",\"dependant\":{\"dependant_id\":1,\"dependant_name\":\"Rhul\",\"dependant_address\":\"124, Rajapalayam, Tamilnadu\",\"dependant_contact\":\"7777788888\",\"created_at\":\"2025-03-22T18:48:58.214Z\"}}],\"claimData\":[{\"claim_id\":1,\"member_id\":1,\"service_id\":1,\"provider_id\":1,\"claim_amount\":\"12000\",\"service_date\":\"2025-03-22T00:00:00.000Z\",\"submission_date\":\"2025-03-22T00:00:00.000Z\",\"approval_date\":\"2025-03-29T00:00:00.000Z\",\"claim_status\":\"Pending\",\"created_at\":\"2025-03-22T19:13:54.205Z\",\"service\":{\"service_id\":1,\"service_name\":\"Gold service\",\"service_description\":null,\"created_at\":\"2025-03-22T19:08:49.203Z\"},\"provider\":{\"provider_id\":1,\"provider_name\":\"Best Insurance Provider\",\"provider_type\":\"State-Owned\",\"address\":\"Best address, Mumbai , India\",\"contact_number\":\"8907654321\",\"created_at\":\"2025-03-22T19:10:16.574Z\"}}],\"plans\":[{\"plan_id\":1,\"member_id\":1,\"plan_name\":\"Gold Membership\",\"plan_description\":\"This gives you insurance for Accidents, Health.\",\"plan_start_date\":\"2025-03-23T00:37:44.000Z\",\"plan_end_date\":\"2030-12-31T00:37:47.000Z\",\"created_at\":\"2025-03-22T19:08:00.561Z\"}],\"planCoverages\":[{\"plan_coverage_id\":1,\"plan_id\":1,\"service_id\":1,\"allowed_amount\":\"150000\",\"copay\":\"950\",\"coinsurance\":\"850\",\"created_at\":\"2025-03-22T19:09:21.040Z\",\"service\":{\"service_id\":1,\"service_name\":\"Gold service\",\"service_description\":null,\"created_at\":\"2025-03-22T19:08:49.203Z\"}}]},\"message\":\"I dont have the explanation for this.\"}'"
   ]
  },
  {
   "cell_type": "code",
   "execution_count": 38,
   "metadata": {},
   "outputs": [],
   "source": [
    "import json\n",
    "data = json.loads(json_input)"
   ]
  },
  {
   "cell_type": "code",
   "execution_count": 39,
   "metadata": {},
   "outputs": [],
   "source": [
    "member_data = data[\"details\"][\"memberData\"]\n",
    "claim_data = data[\"details\"][\"claimData\"]\n",
    "plans = data[\"details\"][\"plans\"]\n",
    "plan_coverages = data[\"details\"][\"planCoverages\"]\n",
    "question = data[\"message\"]"
   ]
  },
  {
   "cell_type": "code",
   "execution_count": 40,
   "metadata": {},
   "outputs": [
    {
     "data": {
      "text/plain": [
       "'I dont have the explanation for this.'"
      ]
     },
     "execution_count": 40,
     "metadata": {},
     "output_type": "execute_result"
    }
   ],
   "source": [
    "question"
   ]
  },
  {
   "cell_type": "code",
   "execution_count": 41,
   "metadata": {},
   "outputs": [],
   "source": [
    "template = \"\"\"\"You are a HealthCare Claims Inquiry Agent. You are supposed to answer queries realted to the claims \n",
    "raised by members. Based on the member data, claim data, plans data and plan coverage data, answer the user's question:\n",
    "\n",
    "Member Data : {member_data}\n",
    "Claim Data : {claim_data}\n",
    "Plan Data : {plan_data}\n",
    "Plan Coverage Data : {plan_coverage_data}\n",
    "\n",
    "Question : {question}\n",
    "\"\"\"\n",
    "prompt = ChatPromptTemplate.from_template(template)"
   ]
  },
  {
   "cell_type": "code",
   "execution_count": 42,
   "metadata": {},
   "outputs": [],
   "source": [
    "llm = ChatOpenAI(openai_api_base= \"http://192.168.4.46:1234/v1\",\n",
    "    openai_api_key=key,\n",
    "    model_name=\"meta-llama-3.1-8b-instruct\" \n",
    ")"
   ]
  },
  {
   "cell_type": "code",
   "execution_count": 44,
   "metadata": {},
   "outputs": [],
   "source": [
    "chain = prompt | llm | StrOutputParser()"
   ]
  },
  {
   "cell_type": "code",
   "execution_count": 46,
   "metadata": {},
   "outputs": [
    {
     "data": {
      "text/plain": [
       "'It seems like you\\'re asking a question without providing enough context about your claim. As a Healthcare Claims Inquiry Agent, I\\'d be happy to help you understand and resolve any issues related to your claims.\\n\\nHowever, before we proceed, could you please provide some more information about your question? For example:\\n\\n- What is the specific issue or concern you\\'re facing with your claim?\\n- Are there any error messages or notifications related to your claim?\\n- Have you checked your member account or plan details for any updates?\\n\\nAdditionally, if you have a specific query like \"What is my claim status?\" or \"Why was my claim rejected?\", please feel free to ask. I\\'ll do my best to assist you based on the provided data.\\n\\nLet me know how I can further assist you with your query.'"
      ]
     },
     "execution_count": 46,
     "metadata": {},
     "output_type": "execute_result"
    }
   ],
   "source": [
    "chain.invoke({'member_data':member_data, 'claim_data':claim_data, 'plan_data':plans, 'plan_coverage_data':plan_coverages, 'question':question})"
   ]
  },
  {
   "cell_type": "code",
   "execution_count": null,
   "metadata": {},
   "outputs": [],
   "source": []
  }
 ],
 "metadata": {
  "kernelspec": {
   "display_name": "AI",
   "language": "python",
   "name": "python3"
  },
  "language_info": {
   "codemirror_mode": {
    "name": "ipython",
    "version": 3
   },
   "file_extension": ".py",
   "mimetype": "text/x-python",
   "name": "python",
   "nbconvert_exporter": "python",
   "pygments_lexer": "ipython3",
   "version": "3.10.16"
  }
 },
 "nbformat": 4,
 "nbformat_minor": 2
}
